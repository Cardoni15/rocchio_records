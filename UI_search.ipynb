{
 "cells": [
  {
   "cell_type": "code",
   "execution_count": 8,
   "metadata": {},
   "outputs": [],
   "source": [
    "import tkinter as tk\n",
    "from tkinter.ttk import *\n",
    "from PIL import ImageTk, Image\n",
    "import webbrowser\n",
    "import pandas as pd\n",
    "import os\n",
    "\n",
    "from tkinter import * \n",
    "import tkinter.messagebox\n",
    "from tkinter import ttk\n",
    "import tkinterweb\n",
    "from IPython.display import Audio\n",
    "from urllib.request import urlopen\n",
    "\n",
    "import spotipy\n",
    "from spotipy.oauth2 import SpotifyClientCredentials\n",
    "import spotipy.util as util\n",
    "\n",
    "import pandas as pd\n",
    "import numpy as np\n",
    "from sklearn.feature_extraction.text import TfidfVectorizer\n",
    "from sklearn.decomposition import TruncatedSVD\n",
    "from sklearn.metrics.pairwise import cosine_similarity\n",
    "from collections import defaultdict, Counter\n",
    "from tqdm import tqdm\n",
    "from langdetect import detect, DetectorFactory\n",
    "import multiprocessing\n",
    "import os\n",
    "import pickle\n",
    "\n",
    "from search_functionality.rocchio_filter import Napster2_Rocchio_Feedback\n",
    "from user_interface.user_interface_class import Napster_GUI_Object"
   ]
  },
  {
   "cell_type": "code",
   "execution_count": 2,
   "metadata": {},
   "outputs": [
    {
     "name": "stderr",
     "output_type": "stream",
     "text": [
      "/Users/cardoni/napster_2/.venv/lib/python3.9/site-packages/sklearn/base.py:329: UserWarning: Trying to unpickle estimator TruncatedSVD from version 1.0.2 when using version 1.1.2. This might lead to breaking code or invalid results. Use at your own risk. For more info please refer to:\n",
      "https://scikit-learn.org/stable/model_persistence.html#security-maintainability-limitations\n",
      "  warnings.warn(\n",
      "/Users/cardoni/napster_2/.venv/lib/python3.9/site-packages/sklearn/base.py:329: UserWarning: Trying to unpickle estimator TfidfTransformer from version 1.0.2 when using version 1.1.2. This might lead to breaking code or invalid results. Use at your own risk. For more info please refer to:\n",
      "https://scikit-learn.org/stable/model_persistence.html#security-maintainability-limitations\n",
      "  warnings.warn(\n",
      "/Users/cardoni/napster_2/.venv/lib/python3.9/site-packages/sklearn/base.py:329: UserWarning: Trying to unpickle estimator TfidfVectorizer from version 1.0.2 when using version 1.1.2. This might lead to breaking code or invalid results. Use at your own risk. For more info please refer to:\n",
      "https://scikit-learn.org/stable/model_persistence.html#security-maintainability-limitations\n",
      "  warnings.warn(\n"
     ]
    }
   ],
   "source": []
  },
  {
   "cell_type": "code",
   "execution_count": 6,
   "metadata": {},
   "outputs": [
    {
     "name": "stdout",
     "output_type": "stream",
     "text": [
      "Requirement already satisfied: pillow in ./.venv/lib/python3.9/site-packages (9.2.0)\n",
      "\u001b[33mWARNING: There was an error checking the latest version of pip.\u001b[0m\u001b[33m\n",
      "\u001b[0mRequirement already satisfied: tk in ./.venv/lib/python3.9/site-packages (0.1.0)\n",
      "\u001b[33mWARNING: There was an error checking the latest version of pip.\u001b[0m\u001b[33m\n",
      "\u001b[0mRequirement already satisfied: sklearn in ./.venv/lib/python3.9/site-packages (0.0)\n",
      "Requirement already satisfied: scikit-learn in ./.venv/lib/python3.9/site-packages (from sklearn) (1.1.2)\n",
      "Requirement already satisfied: scipy>=1.3.2 in ./.venv/lib/python3.9/site-packages (from scikit-learn->sklearn) (1.9.0)\n",
      "Requirement already satisfied: numpy>=1.17.3 in ./.venv/lib/python3.9/site-packages (from scikit-learn->sklearn) (1.23.2)\n",
      "Requirement already satisfied: joblib>=1.0.0 in ./.venv/lib/python3.9/site-packages (from scikit-learn->sklearn) (1.1.0)\n",
      "Requirement already satisfied: threadpoolctl>=2.0.0 in ./.venv/lib/python3.9/site-packages (from scikit-learn->sklearn) (3.1.0)\n",
      "\u001b[33mWARNING: There was an error checking the latest version of pip.\u001b[0m\u001b[33m\n",
      "\u001b[0mRequirement already satisfied: spotipy in ./.venv/lib/python3.9/site-packages (2.20.0)\n",
      "Requirement already satisfied: redis>=3.5.3 in ./.venv/lib/python3.9/site-packages (from spotipy) (4.3.4)\n",
      "Requirement already satisfied: requests>=2.25.0 in ./.venv/lib/python3.9/site-packages (from spotipy) (2.28.1)\n",
      "Requirement already satisfied: urllib3>=1.26.0 in ./.venv/lib/python3.9/site-packages (from spotipy) (1.26.11)\n",
      "Requirement already satisfied: six>=1.15.0 in ./.venv/lib/python3.9/site-packages (from spotipy) (1.16.0)\n",
      "Requirement already satisfied: packaging>=20.4 in ./.venv/lib/python3.9/site-packages (from redis>=3.5.3->spotipy) (21.3)\n",
      "Requirement already satisfied: deprecated>=1.2.3 in ./.venv/lib/python3.9/site-packages (from redis>=3.5.3->spotipy) (1.2.13)\n",
      "Requirement already satisfied: async-timeout>=4.0.2 in ./.venv/lib/python3.9/site-packages (from redis>=3.5.3->spotipy) (4.0.2)\n",
      "Requirement already satisfied: certifi>=2017.4.17 in ./.venv/lib/python3.9/site-packages (from requests>=2.25.0->spotipy) (2022.6.15)\n",
      "Requirement already satisfied: idna<4,>=2.5 in ./.venv/lib/python3.9/site-packages (from requests>=2.25.0->spotipy) (3.3)\n",
      "Requirement already satisfied: charset-normalizer<3,>=2 in ./.venv/lib/python3.9/site-packages (from requests>=2.25.0->spotipy) (2.1.0)\n",
      "Requirement already satisfied: wrapt<2,>=1.10 in ./.venv/lib/python3.9/site-packages (from deprecated>=1.2.3->redis>=3.5.3->spotipy) (1.14.1)\n",
      "Requirement already satisfied: pyparsing!=3.0.5,>=2.0.2 in ./.venv/lib/python3.9/site-packages (from packaging>=20.4->redis>=3.5.3->spotipy) (3.0.9)\n",
      "\u001b[33mWARNING: There was an error checking the latest version of pip.\u001b[0m\u001b[33m\n",
      "\u001b[0mRequirement already satisfied: numpy in ./.venv/lib/python3.9/site-packages (1.23.2)\n",
      "\u001b[33mWARNING: There was an error checking the latest version of pip.\u001b[0m\u001b[33m\n",
      "\u001b[0mRequirement already satisfied: langdetect in ./.venv/lib/python3.9/site-packages (1.0.9)\n",
      "Requirement already satisfied: six in ./.venv/lib/python3.9/site-packages (from langdetect) (1.16.0)\n",
      "\u001b[33mWARNING: There was an error checking the latest version of pip.\u001b[0m\u001b[33m\n",
      "\u001b[0mRequirement already satisfied: tqdm in ./.venv/lib/python3.9/site-packages (4.64.0)\n",
      "\u001b[33mWARNING: There was an error checking the latest version of pip.\u001b[0m\u001b[33m\n",
      "\u001b[0mRequirement already satisfied: pandas in ./.venv/lib/python3.9/site-packages (1.4.3)\n",
      "Requirement already satisfied: pytz>=2020.1 in ./.venv/lib/python3.9/site-packages (from pandas) (2022.2.1)\n",
      "Requirement already satisfied: numpy>=1.18.5 in ./.venv/lib/python3.9/site-packages (from pandas) (1.23.2)\n",
      "Requirement already satisfied: python-dateutil>=2.8.1 in ./.venv/lib/python3.9/site-packages (from pandas) (2.8.2)\n",
      "Requirement already satisfied: six>=1.5 in ./.venv/lib/python3.9/site-packages (from python-dateutil>=2.8.1->pandas) (1.16.0)\n",
      "\u001b[33mWARNING: There was an error checking the latest version of pip.\u001b[0m\u001b[33m\n",
      "\u001b[0mCollecting tkinterweb\n",
      "  Using cached tkinterweb-3.14.3.tar.gz (1.1 MB)\n",
      "  Preparing metadata (setup.py) ... \u001b[?25ldone\n",
      "\u001b[?25hRequirement already satisfied: pillow in ./.venv/lib/python3.9/site-packages (from tkinterweb) (9.2.0)\n",
      "Using legacy 'setup.py install' for tkinterweb, since package 'wheel' is not installed.\n",
      "Installing collected packages: tkinterweb\n",
      "  Running setup.py install for tkinterweb ... \u001b[?25ldone\n",
      "\u001b[?25hSuccessfully installed tkinterweb-3.14.3\n",
      "\u001b[33mWARNING: There was an error checking the latest version of pip.\u001b[0m\u001b[33m\n",
      "\u001b[0m"
     ]
    }
   ],
   "source": [
    "!pip install pillow\n",
    "!pip install tk\n",
    "!pip install sklearn\n",
    "!pip install spotipy\n",
    "!pip install numpy\n",
    "!pip install langdetect\n",
    "!pip install tqdm\n",
    "!pip install pandas\n",
    "!pip install tkinterweb\n",
    "\n"
   ]
  },
  {
   "cell_type": "code",
   "execution_count": 9,
   "metadata": {},
   "outputs": [
    {
     "name": "stdout",
     "output_type": "stream",
     "text": [
      "appnope==0.1.3\n",
      "asttokens==2.0.7\n",
      "async-timeout==4.0.2\n",
      "backcall==0.2.0\n",
      "certifi==2022.6.15\n",
      "charset-normalizer==2.1.0\n",
      "debugpy==1.6.2\n",
      "decorator==5.1.1\n",
      "Deprecated==1.2.13\n",
      "entrypoints==0.4\n",
      "executing==0.10.0\n",
      "idna==3.3\n",
      "ipykernel==6.15.1\n",
      "ipython==8.4.0\n",
      "jedi==0.18.1\n",
      "joblib==1.1.0\n",
      "jupyter-client==7.3.4\n",
      "jupyter-core==4.11.1\n",
      "langdetect==1.0.9\n",
      "matplotlib-inline==0.1.3\n",
      "nest-asyncio==1.5.5\n",
      "numpy==1.23.2\n",
      "packaging==21.3\n",
      "pandas==1.4.3\n",
      "parso==0.8.3\n",
      "pexpect==4.8.0\n",
      "pickleshare==0.7.5\n",
      "Pillow==9.2.0\n",
      "prompt-toolkit==3.0.30\n",
      "psutil==5.9.1\n",
      "ptyprocess==0.7.0\n",
      "pure-eval==0.2.2\n",
      "Pygments==2.12.0\n",
      "pyparsing==3.0.9\n",
      "python-dateutil==2.8.2\n",
      "pytz==2022.2.1\n",
      "pyzmq==23.2.1\n",
      "redis==4.3.4\n",
      "requests==2.28.1\n",
      "scikit-learn==1.1.2\n",
      "scipy==1.9.0\n",
      "six==1.16.0\n",
      "sklearn==0.0\n",
      "spotipy==2.20.0\n",
      "stack-data==0.4.0\n",
      "threadpoolctl==3.1.0\n",
      "tk==0.1.0\n",
      "tkinterweb==3.14.3\n",
      "tornado==6.2\n",
      "tqdm==4.64.0\n",
      "traitlets==5.3.0\n",
      "urllib3==1.26.11\n",
      "wcwidth==0.2.5\n",
      "wrapt==1.14.1\n"
     ]
    }
   ],
   "source": [
    "!pip freeze"
   ]
  },
  {
   "cell_type": "code",
   "execution_count": null,
   "metadata": {},
   "outputs": [],
   "source": []
  }
 ],
 "metadata": {
  "kernelspec": {
   "display_name": "Python 3.9.13 ('.venv': venv)",
   "language": "python",
   "name": "python3"
  },
  "language_info": {
   "codemirror_mode": {
    "name": "ipython",
    "version": 3
   },
   "file_extension": ".py",
   "mimetype": "text/x-python",
   "name": "python",
   "nbconvert_exporter": "python",
   "pygments_lexer": "ipython3",
   "version": "3.9.13"
  },
  "orig_nbformat": 4,
  "vscode": {
   "interpreter": {
    "hash": "24aa6135a85f73bcaa635dc4154a447346ed5bc5221e646077bc3ffc8f67f0eb"
   }
  }
 },
 "nbformat": 4,
 "nbformat_minor": 2
}
